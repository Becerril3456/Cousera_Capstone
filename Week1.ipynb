{
 "cells": [
  {
   "cell_type": "markdown",
   "metadata": {},
   "source": [
    "#  Choosing the best place to set up  a restaurant in London"
   ]
  },
  {
   "cell_type": "markdown",
   "metadata": {},
   "source": [
    "## Introduction\n",
    "### In this report we will analyze a group of datasets about Crime, Restaurants, and Income in London , that aim to solve the question , If i want to put a restaurant in London, Which would be the place to set it up?.\n",
    "### As many entrerpreneurs know, all kind of businesses involve a degree of risk , and without the proper knowledge, one can lose a big quantity of money, effort and time .\n",
    "### But how the risk is measured ...Risk depends of several factors, It's of public knowlegde that people will avoid a venue if is placed in a red zone , based on  this business wont flourish due to the threat level. Another way to measure the risk for this report is the number of Restaurants in the area,in a simple approach (Considering low mobility between borough) as more restaurants ,less average people per each one. Also it depends of the category of the restaurant, something different or scarce will drive more people to it\n",
    "### In the past this quantities were  difficult to measure , and without analytics and guiding only by local knowledge , the risk of setting up a business was several times greater . However since 2001 and with the Open data initiative of London Government ,has been collecting  information on crime, restaurants , income , \n",
    "### Doing and analysis would take several weeks , however now it could take just a matter of days , and with a probability of giving better results \n",
    "### In this project with this data and an addequate use of statistics techniques ,we will find the best addecuate place to set up a Restaurant, in addition we'll tell the restaurants per category in the borough"
   ]
  },
  {
   "cell_type": "markdown",
   "metadata": {},
   "source": [
    "## Data"
   ]
  },
  {
   "cell_type": "markdown",
   "metadata": {},
   "source": [
    "London Crime Per Borough\n",
    "Monthly Report of Crimes per LSOA in London from 2008-2016\n",
    "It could be use to group the number of crimes per borough in a given period of time , find the places with most crime ocurrences , and see how crime rate changes with time\n",
    "\n",
    "London Licensed Restaurants\n",
    "List of Licensed Restaurants (2001-2017) for number of venues, number of employment.\n",
    "Foursquare\n",
    "\n",
    "London Unlicensed Restaraunts\n",
    "List of Unlicensed Restaurants (2001-2017) for number of venues, number of employment\n",
    "\n",
    "\n",
    "London TakeAway food places\n",
    "List of Takeaway Places (2001-2017) , for number of venues, number of employment\n",
    "London Pubs\n",
    "List oF London Pubs \n",
    "London Earnings Residence Borough ( 2001-2018)  for number of venues, number of employment\n",
    "\n",
    "\n",
    "All of the venues databases will be used to find the number of food places per borough and a more detailed anaylisis will find the borough's were restaurants are more succesful\n",
    "\n",
    "Population Data \n",
    "To find crime and restaurant density\n",
    "\n",
    "Foursquare location data \n",
    "To list the food category places in a given borough, this is important in order to give the consumer something new "
   ]
  },
  {
   "cell_type": "markdown",
   "metadata": {},
   "source": [
    "Libraries\n",
    "\n",
    "Pandas\n",
    "Numpy\n",
    "Matplotlib\n",
    "Json\n",
    "Folium\n",
    "Beautiful Soup"
   ]
  }
 ],
 "metadata": {
  "kernelspec": {
   "display_name": "Python 3",
   "language": "python",
   "name": "python3"
  },
  "language_info": {
   "codemirror_mode": {
    "name": "ipython",
    "version": 3
   },
   "file_extension": ".py",
   "mimetype": "text/x-python",
   "name": "python",
   "nbconvert_exporter": "python",
   "pygments_lexer": "ipython3",
   "version": "3.6.2"
  }
 },
 "nbformat": 4,
 "nbformat_minor": 2
}
